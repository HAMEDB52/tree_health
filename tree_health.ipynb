{
 "cells": [
  {
   "cell_type": "code",
   "execution_count": 2,
   "id": "initial_id",
   "metadata": {
    "collapsed": true,
    "ExecuteTime": {
     "end_time": "2024-09-16T02:48:01.914379500Z",
     "start_time": "2024-09-16T02:48:01.886972200Z"
    }
   },
   "outputs": [],
   "source": [
    "import os\n",
    "import tensorflow as tf\n",
    "import numpy as np\n",
    "from sklearn.model_selection import train_test_split"
   ]
  },
  {
   "cell_type": "code",
   "outputs": [
    {
     "name": "stdout",
     "output_type": "stream",
     "text": [
      "Healthy classes: ['Apple___healthy', 'Blueberry___healthy', 'Cherry_(including_sour)___healthy', 'Corn_(maize)___healthy', 'Grape___healthy', 'Peach___healthy', 'Pepper,_bell___healthy', 'Potato___healthy', 'Raspberry___healthy', 'Soybean___healthy', 'Strawberry___healthy', 'Tomato___healthy']\n",
      "Unhealthy classes: ['Apple___Apple_scab', 'Apple___Black_rot', 'Apple___Cedar_apple_rust', 'Cherry_(including_sour)___Powdery_mildew', 'Corn_(maize)___Cercospora_leaf_spot Gray_leaf_spot', 'Corn_(maize)___Common_rust_', 'Corn_(maize)___Northern_Leaf_Blight', 'Grape___Black_rot', 'Grape___Esca_(Black_Measles)', 'Grape___Leaf_blight_(Isariopsis_Leaf_Spot)', 'Orange___Haunglongbing_(Citrus_greening)', 'Peach___Bacterial_spot', 'Pepper,_bell___Bacterial_spot', 'Potato___Early_blight', 'Potato___Late_blight', 'Squash___Powdery_mildew', 'Strawberry___Leaf_scorch', 'Tomato___Bacterial_spot', 'Tomato___Early_blight', 'Tomato___Late_blight', 'Tomato___Leaf_Mold', 'Tomato___Septoria_leaf_spot', 'Tomato___Spider_mites Two-spotted_spider_mite', 'Tomato___Target_Spot', 'Tomato___Tomato_mosaic_virus', 'Tomato___Tomato_Yellow_Leaf_Curl_Virus']\n"
     ]
    }
   ],
   "source": [
    "\n",
    "# Define the base directory\n",
    "base_dir = 'data_set_for_tree_health/plantvillage dataset/color'\n",
    "\n",
    "# Get list of subdirectories (classes)\n",
    "subdirs = [d for d in os.listdir(base_dir) if os.path.isdir(os.path.join(base_dir, d))]\n",
    "\n",
    "# Create lists of 'healthy' and 'unhealthy' class names\n",
    "healthy_classes = [d for d in subdirs if 'healthy' in d]\n",
    "unhealthy_classes = [d for d in subdirs if 'healthy' not in d]\n",
    "\n",
    "print(\"Healthy classes:\", healthy_classes)\n",
    "print(\"Unhealthy classes:\", unhealthy_classes)\n",
    "\n",
    "# Initialize lists to hold image paths and labels\n",
    "image_paths = []\n",
    "labels = []\n",
    "\n",
    "# Map images to labels\n",
    "for subdir in subdirs:\n",
    "    subdir_path = os.path.join(base_dir, subdir)\n",
    "    if os.path.isdir(subdir_path):\n",
    "        for fname in os.listdir(subdir_path):\n",
    "            fpath = os.path.join(subdir_path, fname)\n",
    "            if os.path.isfile(fpath):\n",
    "                image_paths.append(fpath)\n",
    "                if subdir in healthy_classes:\n",
    "                    labels.append(0)  # Healthy\n",
    "                else:\n",
    "                    labels.append(1)  # Unhealthy\n",
    "\n",
    "# Convert lists to numpy arrays\n",
    "image_paths = np.array(image_paths)\n",
    "labels = np.array(labels)"
   ],
   "metadata": {
    "collapsed": false,
    "ExecuteTime": {
     "end_time": "2024-09-16T02:48:32.606128700Z",
     "start_time": "2024-09-16T02:48:25.823099100Z"
    }
   },
   "id": "adcfa854efbef417",
   "execution_count": 3
  },
  {
   "cell_type": "code",
   "outputs": [
    {
     "name": "stdout",
     "output_type": "stream",
     "text": [
      "Training samples: 32583\n",
      "Validation samples: 10861\n",
      "Test samples: 10861\n"
     ]
    }
   ],
   "source": [
    "# Split data into training, validation, and test sets\n",
    "train_paths, temp_paths, train_labels, temp_labels = train_test_split(\n",
    "    image_paths, labels, test_size=0.4, stratify=labels, random_state=42)\n",
    "\n",
    "val_paths, test_paths, val_labels, test_labels = train_test_split(\n",
    "    temp_paths, temp_labels, test_size=0.5, stratify=temp_labels, random_state=42)\n",
    "\n",
    "print(f'Training samples: {len(train_paths)}')\n",
    "print(f'Validation samples: {len(val_paths)}')\n",
    "print(f'Test samples: {len(test_paths)}')\n"
   ],
   "metadata": {
    "collapsed": false,
    "ExecuteTime": {
     "end_time": "2024-09-16T02:48:37.828871800Z",
     "start_time": "2024-09-16T02:48:37.771765700Z"
    }
   },
   "id": "1e439cf8114ece6e",
   "execution_count": 4
  },
  {
   "cell_type": "code",
   "outputs": [],
   "source": [
    "# Define image size and batch size\n",
    "IMG_HEIGHT, IMG_WIDTH = 224, 224\n",
    "BATCH_SIZE = 32\n",
    "AUTOTUNE = tf.data.experimental.AUTOTUNE\n",
    "\n",
    "# Preprocessing function\n",
    "def preprocess_image(image_path, label):\n",
    "    # Read the image from disk\n",
    "    image = tf.io.read_file(image_path)\n",
    "    # Decode the image\n",
    "    image = tf.image.decode_jpeg(image, channels=3)\n",
    "    # Resize the image\n",
    "    image = tf.image.resize(image, [IMG_HEIGHT, IMG_WIDTH])\n",
    "    # Normalize the image\n",
    "    image = image / 255.0\n",
    "    return image, label\n",
    "\n",
    "# Data augmentation function\n",
    "def augment_image(image, label):\n",
    "    image = tf.image.random_flip_left_right(image)\n",
    "    image = tf.image.random_flip_up_down(image)\n",
    "    image = tf.image.random_brightness(image, max_delta=0.1)\n",
    "    return image, label\n",
    "\n",
    "# Create training dataset\n",
    "train_ds = tf.data.Dataset.from_tensor_slices((train_paths, train_labels))\n",
    "train_ds = train_ds.map(preprocess_image, num_parallel_calls=AUTOTUNE)\n",
    "train_ds = train_ds.map(augment_image, num_parallel_calls=AUTOTUNE)\n",
    "train_ds = train_ds.shuffle(buffer_size=1000)\n",
    "train_ds = train_ds.batch(BATCH_SIZE)\n",
    "train_ds = train_ds.prefetch(AUTOTUNE)\n",
    "\n",
    "# Create validation dataset\n",
    "val_ds = tf.data.Dataset.from_tensor_slices((val_paths, val_labels))\n",
    "val_ds = val_ds.map(preprocess_image, num_parallel_calls=AUTOTUNE)\n",
    "val_ds = val_ds.batch(BATCH_SIZE)\n",
    "val_ds = val_ds.prefetch(AUTOTUNE)\n",
    "\n",
    "# Create test dataset\n",
    "test_ds = tf.data.Dataset.from_tensor_slices((test_paths, test_labels))\n",
    "test_ds = test_ds.map(preprocess_image, num_parallel_calls=AUTOTUNE)\n",
    "test_ds = test_ds.batch(BATCH_SIZE)\n",
    "test_ds = test_ds.prefetch(AUTOTUNE)"
   ],
   "metadata": {
    "collapsed": false,
    "ExecuteTime": {
     "end_time": "2024-09-16T02:48:42.646333100Z",
     "start_time": "2024-09-16T02:48:41.884011Z"
    }
   },
   "id": "77646e31606994c8",
   "execution_count": 5
  },
  {
   "cell_type": "code",
   "outputs": [
    {
     "name": "stdout",
     "output_type": "stream",
     "text": [
      "Downloading data from https://storage.googleapis.com/tensorflow/keras-applications/mobilenet_v2/mobilenet_v2_weights_tf_dim_ordering_tf_kernels_1.0_224_no_top.h5\n",
      "9406464/9406464 [==============================] - 2s 0us/step\n",
      "WARNING:tensorflow:From C:\\Users\\hp\\anaconda3\\lib\\site-packages\\keras\\src\\optimizers\\__init__.py:309: The name tf.train.Optimizer is deprecated. Please use tf.compat.v1.train.Optimizer instead.\n",
      "\n",
      "Model: \"sequential\"\n",
      "_________________________________________________________________\n",
      " Layer (type)                Output Shape              Param #   \n",
      "=================================================================\n",
      " mobilenetv2_1.00_224 (Func  (None, 7, 7, 1280)        2257984   \n",
      " tional)                                                         \n",
      "                                                                 \n",
      " global_average_pooling2d (  (None, 1280)              0         \n",
      " GlobalAveragePooling2D)                                         \n",
      "                                                                 \n",
      " dense (Dense)               (None, 1)                 1281      \n",
      "                                                                 \n",
      "=================================================================\n",
      "Total params: 2259265 (8.62 MB)\n",
      "Trainable params: 1281 (5.00 KB)\n",
      "Non-trainable params: 2257984 (8.61 MB)\n",
      "_________________________________________________________________\n"
     ]
    }
   ],
   "source": [
    "from tensorflow.keras.applications import MobileNetV2\n",
    "from tensorflow.keras import layers, models\n",
    "\n",
    "# Load the pre-trained MobileNetV2 model\n",
    "base_model = MobileNetV2(input_shape=(IMG_HEIGHT, IMG_WIDTH, 3),\n",
    "                         include_top=False,\n",
    "                         weights='imagenet')\n",
    "\n",
    "# Freeze the base model\n",
    "base_model.trainable = False\n",
    "\n",
    "# Build the model\n",
    "model = models.Sequential([\n",
    "    base_model,\n",
    "    layers.GlobalAveragePooling2D(),\n",
    "    layers.Dense(1, activation='sigmoid')  # For binary classification\n",
    "])\n",
    "\n",
    "# Compile the model\n",
    "model.compile(optimizer='adam',\n",
    "              loss='binary_crossentropy',\n",
    "              metrics=['accuracy'])\n",
    "\n",
    "# Display the model architecture\n",
    "model.summary()\n"
   ],
   "metadata": {
    "collapsed": false,
    "ExecuteTime": {
     "end_time": "2024-09-16T02:50:37.124262700Z",
     "start_time": "2024-09-16T02:50:31.475486800Z"
    }
   },
   "id": "1e8b41e708dd8f57",
   "execution_count": 7
  },
  {
   "cell_type": "code",
   "outputs": [
    {
     "name": "stdout",
     "output_type": "stream",
     "text": [
      "Training label distribution: Counter({1: 23533, 0: 9050})\n",
      "Class weights: {0: 1.8001657458563536, 1: 0.6922831768155356}\n"
     ]
    }
   ],
   "source": [
    "from tensorflow.keras.callbacks import EarlyStopping, ModelCheckpoint\n",
    "\n",
    "# Define callbacks\n",
    "early_stopping = EarlyStopping(monitor='val_loss', patience=3, restore_best_weights=True)\n",
    "model_checkpoint = ModelCheckpoint('best_model.h5', save_best_only=True)\n",
    "\n",
    "# Check for class imbalance\n",
    "from collections import Counter\n",
    "counter = Counter(train_labels)\n",
    "print(\"Training label distribution:\", counter)\n",
    "\n",
    "# Optionally compute class weights\n",
    "from sklearn.utils import class_weight\n",
    "class_weights = class_weight.compute_class_weight(\n",
    "    class_weight='balanced',\n",
    "    classes=np.unique(train_labels),\n",
    "    y=train_labels\n",
    ")\n",
    "class_weights = dict(enumerate(class_weights))\n",
    "print(\"Class weights:\", class_weights)\n",
    "\n",
    "\n"
   ],
   "metadata": {
    "collapsed": false,
    "ExecuteTime": {
     "end_time": "2024-09-16T02:50:40.323453600Z",
     "start_time": "2024-09-16T02:50:40.284586200Z"
    }
   },
   "id": "cb7de89170512f33",
   "execution_count": 8
  },
  {
   "cell_type": "code",
   "outputs": [
    {
     "name": "stdout",
     "output_type": "stream",
     "text": [
      "Epoch 1/20\n",
      "WARNING:tensorflow:From C:\\Users\\hp\\anaconda3\\lib\\site-packages\\keras\\src\\utils\\tf_utils.py:492: The name tf.ragged.RaggedTensorValue is deprecated. Please use tf.compat.v1.ragged.RaggedTensorValue instead.\n",
      "WARNING:tensorflow:From C:\\Users\\hp\\anaconda3\\lib\\site-packages\\keras\\src\\engine\\base_layer_utils.py:384: The name tf.executing_eagerly_outside_functions is deprecated. Please use tf.compat.v1.executing_eagerly_outside_functions instead.\n",
      "1019/1019 [==============================] - ETA: 0s - loss: 0.1670 - accuracy: 0.9394"
     ]
    },
    {
     "name": "stderr",
     "output_type": "stream",
     "text": [
      "C:\\Users\\hp\\anaconda3\\lib\\site-packages\\keras\\src\\engine\\training.py:3103: UserWarning: You are saving your model as an HDF5 file via `model.save()`. This file format is considered legacy. We recommend using instead the native Keras format, e.g. `model.save('my_model.keras')`.\n",
      "  saving_api.save_model(\n"
     ]
    },
    {
     "name": "stdout",
     "output_type": "stream",
     "text": [
      "1019/1019 [==============================] - 440s 424ms/step - loss: 0.1670 - accuracy: 0.9394 - val_loss: 0.0970 - val_accuracy: 0.9674\n",
      "Epoch 2/20\n",
      "1019/1019 [==============================] - 401s 393ms/step - loss: 0.0947 - accuracy: 0.9655 - val_loss: 0.0871 - val_accuracy: 0.9708\n",
      "Epoch 3/20\n",
      "1019/1019 [==============================] - 399s 391ms/step - loss: 0.0808 - accuracy: 0.9716 - val_loss: 0.0688 - val_accuracy: 0.9750\n",
      "Epoch 4/20\n",
      "1019/1019 [==============================] - 394s 386ms/step - loss: 0.0721 - accuracy: 0.9735 - val_loss: 0.0743 - val_accuracy: 0.9749\n",
      "Epoch 5/20\n",
      "1019/1019 [==============================] - 393s 385ms/step - loss: 0.0660 - accuracy: 0.9754 - val_loss: 0.0648 - val_accuracy: 0.9775\n",
      "Epoch 6/20\n",
      "1019/1019 [==============================] - 395s 387ms/step - loss: 0.0648 - accuracy: 0.9750 - val_loss: 0.0677 - val_accuracy: 0.9768\n",
      "Epoch 7/20\n",
      "1019/1019 [==============================] - 394s 386ms/step - loss: 0.0602 - accuracy: 0.9780 - val_loss: 0.0700 - val_accuracy: 0.9750\n",
      "Epoch 8/20\n",
      "1019/1019 [==============================] - 397s 389ms/step - loss: 0.0585 - accuracy: 0.9781 - val_loss: 0.0811 - val_accuracy: 0.9710\n"
     ]
    }
   ],
   "source": [
    "# Train the model\n",
    "history = model.fit(\n",
    "    train_ds,\n",
    "    epochs=20,\n",
    "    validation_data=val_ds,\n",
    "    class_weight=class_weights,  # Use class weights if there is class imbalance\n",
    "    callbacks=[early_stopping, model_checkpoint]\n",
    ")"
   ],
   "metadata": {
    "collapsed": false,
    "ExecuteTime": {
     "end_time": "2024-09-16T03:44:21.116630500Z",
     "start_time": "2024-09-16T02:50:48.466189Z"
    }
   },
   "id": "c59aba9fd6ac4d4f",
   "execution_count": 9
  },
  {
   "cell_type": "code",
   "outputs": [
    {
     "name": "stdout",
     "output_type": "stream",
     "text": [
      "340/340 [==============================] - 103s 303ms/step - loss: 0.0654 - accuracy: 0.9760\n",
      "Test Accuracy: 0.98\n",
      "340/340 [==============================] - 98s 287ms/step\n",
      "\n",
      "Classification Report:\n",
      "              precision    recall  f1-score   support\n",
      "\n",
      "     Healthy       0.94      0.97      0.96      3017\n",
      "   Unhealthy       0.99      0.98      0.98      7844\n",
      "\n",
      "    accuracy                           0.98     10861\n",
      "   macro avg       0.97      0.98      0.97     10861\n",
      "weighted avg       0.98      0.98      0.98     10861\n"
     ]
    },
    {
     "data": {
      "text/plain": "<Figure size 600x600 with 2 Axes>",
      "image/png": "[encoded data removed]"
     },
     "metadata": {},
     "output_type": "display_data"
    }
   ],
   "source": [
    "import numpy as np\n",
    "from sklearn.metrics import classification_report, confusion_matrix\n",
    "import matplotlib.pyplot as plt\n",
    "import seaborn as sns\n",
    "\n",
    "# Load the best model\n",
    "model.load_weights('best_model.h5')\n",
    "\n",
    "# Evaluate the model on the test set\n",
    "test_loss, test_acc = model.evaluate(test_ds)\n",
    "print(f'Test Accuracy: {test_acc:.2f}')\n",
    "\n",
    "# Predict on the test set\n",
    "y_pred_prob = model.predict(test_ds)\n",
    "y_pred = np.round(y_pred_prob).astype(int).flatten()\n",
    "\n",
    "# Get true labels\n",
    "y_true = np.concatenate([y for x, y in test_ds], axis=0)\n",
    "\n",
    "# Classification report\n",
    "print('\\nClassification Report:')\n",
    "print(classification_report(y_true, y_pred, target_names=['Healthy', 'Unhealthy']))\n",
    "\n",
    "# Confusion matrix\n",
    "cm = confusion_matrix(y_true, y_pred)\n",
    "\n",
    "# Plot confusion matrix\n",
    "plt.figure(figsize=(6, 6))\n",
    "sns.heatmap(cm, annot=True, fmt='d', cmap='Blues',\n",
    "            xticklabels=['Healthy', 'Unhealthy'],\n",
    "            yticklabels=['Healthy', 'Unhealthy'])\n",
    "plt.ylabel('Actual')\n",
    "plt.xlabel('Predicted')\n",
    "plt.title('Confusion Matrix')\n",
    "plt.show()\n"
   ],
   "metadata": {
    "collapsed": false,
    "ExecuteTime": {
     "end_time": "2024-09-16T03:47:50.620177900Z",
     "start_time": "2024-09-16T03:44:21.118015500Z"
    }
   },
   "id": "36631c86d7ae53fa",
   "execution_count": 10
  },
  {
   "cell_type": "code",
   "outputs": [
    {
     "name": "stderr",
     "output_type": "stream",
     "text": [
      "C:\\Users\\hp\\anaconda3\\lib\\site-packages\\keras\\src\\engine\\training.py:3103: UserWarning: You are saving your model as an HDF5 file via `model.save()`. This file format is considered legacy. We recommend using instead the native Keras format, e.g. `model.save('my_model.keras')`.\n",
      "  saving_api.save_model(\n"
     ]
    }
   ],
   "source": [
    "\n",
    "\n",
    "loaded_model = tf.keras.models.load_model('plant_health_model.h5')\n",
    "\n",
    "def predict_image(image_path):\n",
    "    image = tf.io.read_file(image_path)\n",
    "    image = tf.image.decode_jpeg(image, channels=3)\n",
    "    image = tf.image.resize(image, [IMG_HEIGHT, IMG_WIDTH])\n",
    "    image = image / 255.0\n",
    "    image = tf.expand_dims(image, axis=0)\n",
    "\n",
    "    # Make prediction\n",
    "    prediction = loaded_model.predict(image)\n",
    "    if prediction[0][0] < 0.5:\n",
    "        print(\"The plant is Healthy.\")\n",
    "    else:\n",
    "        print(\"The plant is Unhealthy.\")\n",
    "\n",
    "predict_image('path_to_new_plant_image.jpg')\n"
   ],
   "metadata": {
    "collapsed": false,
    "ExecuteTime": {
     "end_time": "2024-09-16T03:47:52.685374700Z",
     "start_time": "2024-09-16T03:47:50.624773800Z"
    }
   },
   "id": "7961862fcf875297",
   "execution_count": 11
  },
  {
   "cell_type": "code",
   "outputs": [],
   "source": [
    "# Unfreeze the base model\n",
    "base_model.trainable = True\n",
    "\n",
    "# Fine-tune from this layer onwards\n",
    "fine_tune_at = 100\n",
    "\n",
    "# Freeze all layers before 'fine_tune_at'\n",
    "for layer in base_model.layers[:fine_tune_at]:\n",
    "    layer.trainable = False\n",
    "\n",
    "# Recompile the model with a lower learning rate\n",
    "model.compile(optimizer=tf.keras.optimizers.Adam(learning_rate=1e-5),\n",
    "              loss='binary_crossentropy',\n",
    "              metrics=['accuracy'])\n",
    "\n",
    "# Continue training\n",
    "fine_tune_epochs = 10\n",
    "total_epochs = len(history.history['accuracy']) + fine_tune_epochs\n",
    "\n",
    "\n"
   ],
   "metadata": {
    "collapsed": false,
    "ExecuteTime": {
     "end_time": "2024-09-16T03:47:52.718212200Z",
     "start_time": "2024-09-16T03:47:52.698911700Z"
    }
   },
   "id": "c1d8e11f5c4d5b1",
   "execution_count": 12
  },
  {
   "cell_type": "code",
   "outputs": [],
   "source": [
    "history_fine = model.fit(\n",
    "    train_ds,\n",
    "    epochs=total_epochs,\n",
    "    initial_epoch=history.epoch[-1],\n",
    "    validation_data=val_ds,\n",
    "    class_weight=class_weights,\n",
    "    callbacks=[early_stopping, model_checkpoint]\n",
    ")"
   ],
   "metadata": {
    "collapsed": false
   },
   "id": "547e7d00049a583b"
  },
  {
   "cell_type": "code",
   "outputs": [
    {
     "name": "stdout",
     "output_type": "stream",
     "text": [
      "WARNING:tensorflow:From C:\\Users\\hp\\anaconda3\\lib\\site-packages\\keras\\src\\losses.py:2976: The name tf.losses.sparse_softmax_cross_entropy is deprecated. Please use tf.compat.v1.losses.sparse_softmax_cross_entropy instead.\n"
     ]
    }
   ],
   "source": [
    "import os\n",
    "import numpy as np\n",
    "import pandas as pd\n",
    "import tensorflow as tf\n",
    "from tensorflow.keras.preprocessing.image import ImageDataGenerator, load_img, img_to_array\n",
    "from sklearn.metrics import confusion_matrix, classification_report, accuracy_score, precision_score, recall_score, f1_score\n",
    "import matplotlib.pyplot as plt\n",
    "import seaborn as sns"
   ],
   "metadata": {
    "collapsed": false,
    "ExecuteTime": {
     "end_time": "2024-09-30T00:23:16.718331400Z",
     "start_time": "2024-09-30T00:22:39.347036500Z"
    }
   },
   "id": "67deaf74396e770a",
   "execution_count": 3
  },
  {
   "cell_type": "code",
   "outputs": [
    {
     "name": "stdout",
     "output_type": "stream",
     "text": [
      "WARNING:tensorflow:From C:\\Users\\hp\\anaconda3\\lib\\site-packages\\keras\\src\\backend.py:1398: The name tf.executing_eagerly_outside_functions is deprecated. Please use tf.compat.v1.executing_eagerly_outside_functions instead.\n",
      "WARNING:tensorflow:From C:\\Users\\hp\\anaconda3\\lib\\site-packages\\keras\\src\\layers\\normalization\\batch_normalization.py:979: The name tf.nn.fused_batch_norm is deprecated. Please use tf.compat.v1.nn.fused_batch_norm instead.\n"
     ]
    }
   ],
   "source": [
    "\n",
    "# Load the trained model\n",
    "model = tf.keras.models.load_model('best_model.h5')"
   ],
   "metadata": {
    "collapsed": false,
    "ExecuteTime": {
     "end_time": "2024-09-30T00:24:02.927732100Z",
     "start_time": "2024-09-30T00:23:57.667915100Z"
    }
   },
   "id": "11e20c575fd4207c",
   "execution_count": 4
  },
  {
   "cell_type": "code",
   "outputs": [],
   "source": [
    "\n",
    "\n",
    "\n",
    "# Define the base path to your dataset\n",
    "base_path = 'data_set_for_sign_language_detection'  # Replace with your actual path"
   ],
   "metadata": {
    "collapsed": false,
    "ExecuteTime": {
     "end_time": "2024-09-30T00:24:03.662814600Z",
     "start_time": "2024-09-30T00:24:03.628950400Z"
    }
   },
   "id": "15cd5d704524a55e",
   "execution_count": 5
  },
  {
   "cell_type": "code",
   "outputs": [],
   "source": [
    "\n",
    "\n",
    "# Define image size and batch size\n",
    "IMG_SIZE = (224, 224)  # Adjust based on your model's input size\n",
    "BATCH_SIZE = 32\n",
    "\n",
    "# Prepare image data generator for loading images\n",
    "datagen = ImageDataGenerator(rescale=1./255)\n",
    "\n",
    "# Collect images and their labels\n",
    "images = []\n",
    "labels = []\n"
   ],
   "metadata": {
    "collapsed": false,
    "ExecuteTime": {
     "end_time": "2024-09-30T00:24:06.836291700Z",
     "start_time": "2024-09-30T00:24:06.812122700Z"
    }
   },
   "id": "1f89f9eed33856cd",
   "execution_count": 6
  },
  {
   "cell_type": "code",
   "outputs": [
    {
     "ename": "MemoryError",
     "evalue": "Unable to allocate 73.8 GiB for an array with shape (131668, 224, 224, 3) and data type float32",
     "output_type": "error",
     "traceback": [
      "\u001B[1;31m---------------------------------------------------------------------------\u001B[0m",
      "\u001B[1;31mMemoryError\u001B[0m                               Traceback (most recent call last)",
      "\u001B[1;32m~\\AppData\\Local\\Temp\\ipykernel_3632\\3014260534.py\u001B[0m in \u001B[0;36m<module>\u001B[1;34m\u001B[0m\n\u001B[0;32m     17\u001B[0m \u001B[1;33m\u001B[0m\u001B[0m\n\u001B[0;32m     18\u001B[0m \u001B[1;31m# Convert images to a numpy array\u001B[0m\u001B[1;33m\u001B[0m\u001B[1;33m\u001B[0m\u001B[0m\n\u001B[1;32m---> 19\u001B[1;33m \u001B[0mimages\u001B[0m \u001B[1;33m=\u001B[0m \u001B[0mnp\u001B[0m\u001B[1;33m.\u001B[0m\u001B[0mvstack\u001B[0m\u001B[1;33m(\u001B[0m\u001B[0mimages\u001B[0m\u001B[1;33m)\u001B[0m\u001B[1;33m\u001B[0m\u001B[1;33m\u001B[0m\u001B[0m\n\u001B[0m",
      "\u001B[1;32m~\\anaconda3\\lib\\site-packages\\numpy\\core\\shape_base.py\u001B[0m in \u001B[0;36mvstack\u001B[1;34m(tup, dtype, casting)\u001B[0m\n\u001B[0;32m    287\u001B[0m     \u001B[1;32mif\u001B[0m \u001B[1;32mnot\u001B[0m \u001B[0misinstance\u001B[0m\u001B[1;33m(\u001B[0m\u001B[0marrs\u001B[0m\u001B[1;33m,\u001B[0m \u001B[0mlist\u001B[0m\u001B[1;33m)\u001B[0m\u001B[1;33m:\u001B[0m\u001B[1;33m\u001B[0m\u001B[1;33m\u001B[0m\u001B[0m\n\u001B[0;32m    288\u001B[0m         \u001B[0marrs\u001B[0m \u001B[1;33m=\u001B[0m \u001B[1;33m[\u001B[0m\u001B[0marrs\u001B[0m\u001B[1;33m]\u001B[0m\u001B[1;33m\u001B[0m\u001B[1;33m\u001B[0m\u001B[0m\n\u001B[1;32m--> 289\u001B[1;33m     \u001B[1;32mreturn\u001B[0m \u001B[0m_nx\u001B[0m\u001B[1;33m.\u001B[0m\u001B[0mconcatenate\u001B[0m\u001B[1;33m(\u001B[0m\u001B[0marrs\u001B[0m\u001B[1;33m,\u001B[0m \u001B[1;36m0\u001B[0m\u001B[1;33m,\u001B[0m \u001B[0mdtype\u001B[0m\u001B[1;33m=\u001B[0m\u001B[0mdtype\u001B[0m\u001B[1;33m,\u001B[0m \u001B[0mcasting\u001B[0m\u001B[1;33m=\u001B[0m\u001B[0mcasting\u001B[0m\u001B[1;33m)\u001B[0m\u001B[1;33m\u001B[0m\u001B[1;33m\u001B[0m\u001B[0m\n\u001B[0m\u001B[0;32m    290\u001B[0m \u001B[1;33m\u001B[0m\u001B[0m\n\u001B[0;32m    291\u001B[0m \u001B[1;33m\u001B[0m\u001B[0m\n",
      "\u001B[1;31mMemoryError\u001B[0m: Unable to allocate 73.8 GiB for an array with shape (131668, 224, 224, 3) and data type float32"
     ]
    }
   ],
   "source": [
    "\n",
    "# Traverse the directory structure\n",
    "for subfolder in os.listdir(base_path):\n",
    "    subfolder_path = os.path.join(base_path, subfolder)\n",
    "    if os.path.isdir(subfolder_path):\n",
    "        for mini_folder in os.listdir(subfolder_path):\n",
    "            mini_folder_path = os.path.join(subfolder_path, mini_folder)\n",
    "            if os.path.isdir(mini_folder_path):\n",
    "                for image_file in os.listdir(mini_folder_path):\n",
    "                    image_path = os.path.join(mini_folder_path, image_file)\n",
    "                    if image_file.endswith('.png'):  # Ensure it's an image file\n",
    "                        # Load and preprocess the image\n",
    "                        img = load_img(image_path, target_size=IMG_SIZE)\n",
    "                        img_array = img_to_array(img)\n",
    "                        img_array = np.expand_dims(img_array, axis=0)  # Add batch dimension\n",
    "                        images.append(img_array)\n",
    "                        labels.append(subfolder)  # Assuming subfolder name is the label\n",
    "\n",
    "# Convert images to a numpy array\n",
    "images = np.vstack(images)"
   ],
   "metadata": {
    "collapsed": false,
    "ExecuteTime": {
     "end_time": "2024-09-30T00:52:11.920209200Z",
     "start_time": "2024-09-30T00:24:08.114187500Z"
    }
   },
   "id": "9d3bf88e329ec7d4",
   "execution_count": 7
  },
  {
   "cell_type": "code",
   "outputs": [],
   "source": [
    "# Make predictions\n",
    "predictions = model.predict(images)\n",
    "predicted_labels = np.argmax(predictions, axis=1)\n",
    "\n",
    "# Map predicted indices back to their corresponding labels\n",
    "unique_labels = sorted(set(labels))  # Sort labels alphabetically\n",
    "label_to_index = {label: idx for idx, label in enumerate(unique_labels)}\n",
    "true_labels = [label_to_index[label] for label in labels]"
   ],
   "metadata": {
    "collapsed": false,
    "ExecuteTime": {
     "start_time": "2024-09-30T00:52:11.775108400Z"
    }
   },
   "id": "1c972a3ddec31fe4"
  },
  {
   "cell_type": "code",
   "outputs": [],
   "source": [
    "# Calculate performance metrics\n",
    "conf_matrix = confusion_matrix(true_labels, predicted_labels)\n",
    "accuracy = accuracy_score(true_labels, predicted_labels)\n",
    "precision = precision_score(true_labels, predicted_labels, average='weighted')\n",
    "recall = recall_score(true_labels, predicted_labels, average='weighted')\n",
    "f1 = f1_score(true_labels, predicted_labels, average='weighted')"
   ],
   "metadata": {
    "collapsed": false,
    "ExecuteTime": {
     "start_time": "2024-09-30T00:52:11.869107400Z"
    }
   },
   "id": "5f423dbc075a74f"
  },
  {
   "cell_type": "code",
   "outputs": [],
   "source": [
    "# Print performance metrics\n",
    "print(f\"Accuracy: {accuracy:.4f}\")\n",
    "print(f\"Precision: {precision:.4f}\")\n",
    "print(f\"Recall: {recall:.4f}\")\n",
    "print(f\"F1 Score: {f1:.4f}\")\n",
    "print(\"\\nClassification Report:\\n\", classification_report(true_labels, predicted_labels, target_names=unique_labels))\n",
    "\n",
    "# Plot the confusion matrix\n",
    "plt.figure(figsize=(12, 10))\n",
    "sns.heatmap(conf_matrix, annot=True, fmt='d', cmap='Blues', xticklabels=unique_labels, yticklabels=unique_labels)\n",
    "plt.xlabel('Predicted Label')\n",
    "plt.ylabel('True Label')\n",
    "plt.title('Confusion Matrix')\n",
    "plt.show()\n"
   ],
   "metadata": {
    "collapsed": false,
    "ExecuteTime": {
     "start_time": "2024-09-30T00:52:11.869107400Z"
    }
   },
   "id": "ce8178b646c81b5"
  },
  {
   "cell_type": "markdown",
   "source": [],
   "metadata": {
    "collapsed": false
   },
   "id": "edb7b75c1e9ef6b3"
  },
  {
   "cell_type": "code",
   "outputs": [
    {
     "name": "stdout",
     "output_type": "stream",
     "text": [
      "WARNING:tensorflow:From C:\\Users\\hp\\anaconda3\\lib\\site-packages\\keras\\src\\losses.py:2976: The name tf.losses.sparse_softmax_cross_entropy is deprecated. Please use tf.compat.v1.losses.sparse_softmax_cross_entropy instead.\n",
      "WARNING:tensorflow:From C:\\Users\\hp\\anaconda3\\lib\\site-packages\\keras\\src\\backend.py:1398: The name tf.executing_eagerly_outside_functions is deprecated. Please use tf.compat.v1.executing_eagerly_outside_functions instead.\n",
      "WARNING:tensorflow:From C:\\Users\\hp\\anaconda3\\lib\\site-packages\\keras\\src\\layers\\normalization\\batch_normalization.py:979: The name tf.nn.fused_batch_norm is deprecated. Please use tf.compat.v1.nn.fused_batch_norm instead.\n"
     ]
    }
   ],
   "source": [
    "import os\n",
    "import numpy as np\n",
    "import tensorflow as tf\n",
    "from tensorflow.keras.preprocessing.image import ImageDataGenerator\n",
    "from sklearn.metrics import confusion_matrix, classification_report, accuracy_score, precision_score, recall_score, f1_score\n",
    "import matplotlib.pyplot as plt\n",
    "import seaborn as sns\n",
    "\n",
    "# Load the trained model\n",
    "model = tf.keras.models.load_model('best_model.h5')\n",
    "\n",
    "# Define the base path to your dataset\n",
    "base_path = 'data_set_for_sign_language_detection'  # Replace with your actual path"
   ],
   "metadata": {
    "collapsed": false,
    "ExecuteTime": {
     "end_time": "2024-09-30T19:02:49.254084200Z",
     "start_time": "2024-09-30T19:01:36.216936300Z"
    }
   },
   "id": "fcaec70678db962c",
   "execution_count": 1
  },
  {
   "cell_type": "code",
   "outputs": [],
   "source": [
    "# Define image size and batch size\n",
    "IMG_SIZE = (224, 224)  # Adjust based on your model's input size\n",
    "BATCH_SIZE = 32  # Adjust based on your system's memory capacity\n",
    "\n",
    "# Prepare the image data generator with rescaling\n",
    "datagen = tf.keras.preprocessing.image.ImageDataGenerator(rescale=1./255)\n",
    "folder_to_use = 'A'"
   ],
   "metadata": {
    "collapsed": false,
    "ExecuteTime": {
     "end_time": "2024-09-30T19:14:56.760396800Z",
     "start_time": "2024-09-30T19:14:56.717245700Z"
    }
   },
   "id": "9953750d284396bb",
   "execution_count": 15
  },
  {
   "cell_type": "code",
   "outputs": [
    {
     "name": "stdout",
     "output_type": "stream",
     "text": [
      "Processing folder: A\n",
      "  Processing mini-folder as class: a\n",
      "  Processing mini-folder as class: b\n",
      "  Processing mini-folder as class: c\n",
      "  Processing mini-folder as class: d\n",
      "  Processing mini-folder as class: e\n",
      "  Processing mini-folder as class: f\n",
      "  Processing mini-folder as class: g\n",
      "  Processing mini-folder as class: h\n",
      "  Processing mini-folder as class: i\n",
      "  Processing mini-folder as class: k\n",
      "    Processed 100 images so far...\n",
      "  Processing mini-folder as class: l\n",
      "  Processing mini-folder as class: m\n",
      "  Processing mini-folder as class: n\n",
      "  Processing mini-folder as class: o\n",
      "  Processing mini-folder as class: p\n",
      "  Processing mini-folder as class: q\n",
      "  Processing mini-folder as class: r\n",
      "  Processing mini-folder as class: s\n",
      "  Processing mini-folder as class: t\n",
      "  Processing mini-folder as class: u\n",
      "    Processed 200 images so far...\n",
      "  Processing mini-folder as class: v\n",
      "  Processing mini-folder as class: w\n",
      "  Processing mini-folder as class: x\n",
      "  Processing mini-folder as class: y\n",
      "Total images processed from folder A: 240\n"
     ]
    }
   ],
   "source": [
    "\n",
    "# Handle the dataset with potential nested subfolders and limit to 100 images per mini-folder as class\n",
    "def custom_flow_from_directory(base_path, folder_to_use, IMG_SIZE, batch_size, max_images_per_class=10):\n",
    "    image_list = []\n",
    "    labels_list = []\n",
    "    total_images = 0  # Track the total number of images\n",
    "    processed_mini_folders = set()  # Keep track of unique mini-folder names\n",
    "\n",
    "    # Process only the specified folder\n",
    "    folder_path = os.path.join(base_path, folder_to_use)\n",
    "    if os.path.isdir(folder_path):\n",
    "        print(f\"Processing folder: {folder_to_use}\")  # Log the folder to be processed\n",
    "        for mini_folder in os.listdir(folder_path):\n",
    "            mini_folder_path = os.path.join(folder_path, mini_folder)\n",
    "            if os.path.isdir(mini_folder_path):\n",
    "                # Use only unique mini-folder names\n",
    "                if mini_folder not in processed_mini_folders:\n",
    "                    print(f\"  Processing mini-folder as class: {mini_folder}\")  # Log mini-folder as class\n",
    "                    processed_mini_folders.add(mini_folder)  # Add to the set of processed folders\n",
    "                    image_count = 0  # Reset count for each mini-folder\n",
    "\n",
    "                    for image_file in os.listdir(mini_folder_path):\n",
    "                        image_path = os.path.join(mini_folder_path, image_file)\n",
    "                        if image_file.endswith('.png'):  # Modify if there are other image formats\n",
    "                            if image_count >= max_images_per_class:\n",
    "                                break  # Stop when we reach 100 images for this mini-folder\n",
    "                            # Load and preprocess the image\n",
    "                            img = tf.keras.preprocessing.image.load_img(image_path, target_size=IMG_SIZE)\n",
    "                            img_array = tf.keras.preprocessing.image.img_to_array(img)\n",
    "                            img_array = np.expand_dims(img_array, axis=0)  # Add batch dimension\n",
    "                            img_array /= 255.0  # Rescale to [0, 1]\n",
    "                            image_list.append(img_array)\n",
    "                            labels_list.append(mini_folder)  # Use mini-folder as the class label\n",
    "                            image_count += 1\n",
    "                            total_images += 1\n",
    "\n",
    "                            if total_images % 100 == 0:  # Print progress every 100 images\n",
    "                                print(f\"    Processed {total_images} images so far...\")\n",
    "\n",
    "    print(f\"Total images processed from folder {folder_to_use}: {total_images}\")\n",
    "    return np.vstack(image_list), labels_list\n",
    "\n",
    "# Use the custom function to handle your specific dataset structure with a limit of 100 images per mini-folder class from folder 'A'\n",
    "images, labels = custom_flow_from_directory(base_path, folder_to_use, IMG_SIZE, BATCH_SIZE, max_images_per_class=10)"
   ],
   "metadata": {
    "collapsed": false,
    "ExecuteTime": {
     "end_time": "2024-09-30T19:15:15.165760200Z",
     "start_time": "2024-09-30T19:15:14.176286800Z"
    }
   },
   "id": "f37ea4ac9cea41dc",
   "execution_count": 18
  },
  {
   "cell_type": "code",
   "outputs": [
    {
     "ename": "TypeError",
     "evalue": "custom_flow_from_directory() missing 1 required positional argument: 'batch_size'",
     "output_type": "error",
     "traceback": [
      "\u001B[1;31m---------------------------------------------------------------------------\u001B[0m",
      "\u001B[1;31mTypeError\u001B[0m                                 Traceback (most recent call last)",
      "\u001B[1;32m~\\AppData\\Local\\Temp\\ipykernel_3260\\1666018302.py\u001B[0m in \u001B[0;36m<module>\u001B[1;34m\u001B[0m\n\u001B[0;32m      1\u001B[0m \u001B[1;31m# Use the custom function to handle your specific dataset structure with a limit of 100 images per mini-folder class\u001B[0m\u001B[1;33m\u001B[0m\u001B[1;33m\u001B[0m\u001B[0m\n\u001B[1;32m----> 2\u001B[1;33m \u001B[0mimages\u001B[0m\u001B[1;33m,\u001B[0m \u001B[0mlabels\u001B[0m \u001B[1;33m=\u001B[0m \u001B[0mcustom_flow_from_directory\u001B[0m\u001B[1;33m(\u001B[0m\u001B[0mbase_path\u001B[0m\u001B[1;33m,\u001B[0m \u001B[0mIMG_SIZE\u001B[0m\u001B[1;33m,\u001B[0m \u001B[0mBATCH_SIZE\u001B[0m\u001B[1;33m,\u001B[0m \u001B[0mmax_images_per_class\u001B[0m\u001B[1;33m=\u001B[0m\u001B[1;36m5\u001B[0m\u001B[1;33m)\u001B[0m\u001B[1;33m\u001B[0m\u001B[1;33m\u001B[0m\u001B[0m\n\u001B[0m",
      "\u001B[1;31mTypeError\u001B[0m: custom_flow_from_directory() missing 1 required positional argument: 'batch_size'"
     ]
    }
   ],
   "source": [
    "# Use the custom function to handle your specific dataset structure with a limit of 100 images per mini-folder class\n",
    "images, labels = custom_flow_from_directory(base_path, IMG_SIZE, BATCH_SIZE, max_images_per_class=5)"
   ],
   "metadata": {
    "collapsed": false,
    "ExecuteTime": {
     "end_time": "2024-09-30T19:15:01.970966500Z",
     "start_time": "2024-09-30T19:15:01.807063800Z"
    }
   },
   "id": "d7bfd2858c069bb8",
   "execution_count": 17
  },
  {
   "cell_type": "code",
   "outputs": [],
   "source": [
    "# Convert labels to numerical format\n",
    "unique_labels = sorted(set(labels))  # Get unique class labels\n",
    "label_to_index = {label: idx for idx, label in enumerate(unique_labels)}  # Map labels to indices\n",
    "true_labels = [label_to_index[label] for label in labels]"
   ],
   "metadata": {
    "collapsed": false,
    "ExecuteTime": {
     "end_time": "2024-09-30T19:15:18.094373700Z",
     "start_time": "2024-09-30T19:15:18.042510400Z"
    }
   },
   "id": "56413de92535d0e2",
   "execution_count": 19
  },
  {
   "cell_type": "code",
   "outputs": [
    {
     "name": "stdout",
     "output_type": "stream",
     "text": [
      "8/8 [==============================] - 5s 519ms/step\n",
      "Accuracy: 0.0417\n",
      "Precision: 0.0017\n",
      "Recall: 0.0417\n",
      "F1 Score: 0.0033\n",
      "\n",
      "Classification Report:\n",
      "               precision    recall  f1-score   support\n",
      "\n",
      "           a       0.04      1.00      0.08        10\n",
      "           b       0.00      0.00      0.00        10\n",
      "           c       0.00      0.00      0.00        10\n",
      "           d       0.00      0.00      0.00        10\n",
      "           e       0.00      0.00      0.00        10\n",
      "           f       0.00      0.00      0.00        10\n",
      "           g       0.00      0.00      0.00        10\n",
      "           h       0.00      0.00      0.00        10\n",
      "           i       0.00      0.00      0.00        10\n",
      "           k       0.00      0.00      0.00        10\n",
      "           l       0.00      0.00      0.00        10\n",
      "           m       0.00      0.00      0.00        10\n",
      "           n       0.00      0.00      0.00        10\n",
      "           o       0.00      0.00      0.00        10\n",
      "           p       0.00      0.00      0.00        10\n",
      "           q       0.00      0.00      0.00        10\n",
      "           r       0.00      0.00      0.00        10\n",
      "           s       0.00      0.00      0.00        10\n",
      "           t       0.00      0.00      0.00        10\n",
      "           u       0.00      0.00      0.00        10\n",
      "           v       0.00      0.00      0.00        10\n",
      "           w       0.00      0.00      0.00        10\n",
      "           x       0.00      0.00      0.00        10\n",
      "           y       0.00      0.00      0.00        10\n",
      "\n",
      "    accuracy                           0.04       240\n",
      "   macro avg       0.00      0.04      0.00       240\n",
      "weighted avg       0.00      0.04      0.00       240\n"
     ]
    },
    {
     "name": "stderr",
     "output_type": "stream",
     "text": [
      "C:\\Users\\hp\\anaconda3\\lib\\site-packages\\sklearn\\metrics\\_classification.py:1531: UndefinedMetricWarning: Precision is ill-defined and being set to 0.0 in labels with no predicted samples. Use `zero_division` parameter to control this behavior.\n",
      "  _warn_prf(average, modifier, f\"{metric.capitalize()} is\", len(result))\n",
      "C:\\Users\\hp\\anaconda3\\lib\\site-packages\\sklearn\\metrics\\_classification.py:1531: UndefinedMetricWarning: Precision is ill-defined and being set to 0.0 in labels with no predicted samples. Use `zero_division` parameter to control this behavior.\n",
      "  _warn_prf(average, modifier, f\"{metric.capitalize()} is\", len(result))\n",
      "C:\\Users\\hp\\anaconda3\\lib\\site-packages\\sklearn\\metrics\\_classification.py:1531: UndefinedMetricWarning: Precision is ill-defined and being set to 0.0 in labels with no predicted samples. Use `zero_division` parameter to control this behavior.\n",
      "  _warn_prf(average, modifier, f\"{metric.capitalize()} is\", len(result))\n",
      "C:\\Users\\hp\\anaconda3\\lib\\site-packages\\sklearn\\metrics\\_classification.py:1531: UndefinedMetricWarning: Precision is ill-defined and being set to 0.0 in labels with no predicted samples. Use `zero_division` parameter to control this behavior.\n",
      "  _warn_prf(average, modifier, f\"{metric.capitalize()} is\", len(result))\n"
     ]
    },
    {
     "data": {
      "text/plain": "<Figure size 1200x1000 with 2 Axes>",
      "image/png": "[encoded data removed]"
     },
     "metadata": {},
     "output_type": "display_data"
    }
   ],
   "source": [
    "# Predict in batches\n",
    "predictions = model.predict(images)\n",
    "predicted_labels = np.argmax(predictions, axis=1)\n",
    "\n",
    "# Calculate performance metrics\n",
    "conf_matrix = confusion_matrix(true_labels, predicted_labels)\n",
    "accuracy = accuracy_score(true_labels, predicted_labels)\n",
    "precision = precision_score(true_labels, predicted_labels, average='weighted')\n",
    "recall = recall_score(true_labels, predicted_labels, average='weighted')\n",
    "f1 = f1_score(true_labels, predicted_labels, average='weighted')\n",
    "\n",
    "# Print performance metrics\n",
    "print(f\"Accuracy: {accuracy:.4f}\")\n",
    "print(f\"Precision: {precision:.4f}\")\n",
    "print(f\"Recall: {recall:.4f}\")\n",
    "print(f\"F1 Score: {f1:.4f}\")\n",
    "print(\"\\nClassification Report:\\n\", classification_report(true_labels, predicted_labels, target_names=unique_labels))\n",
    "\n",
    "# Plot the confusion matrix\n",
    "plt.figure(figsize=(12, 10))\n",
    "sns.heatmap(conf_matrix, annot=True, fmt='d', cmap='Blues', xticklabels=unique_labels, yticklabels=unique_labels)\n",
    "plt.xlabel('Predicted Label')\n",
    "plt.ylabel('True Label')\n",
    "plt.title('Confusion Matrix')\n",
    "plt.show()"
   ],
   "metadata": {
    "collapsed": false,
    "ExecuteTime": {
     "end_time": "2024-09-30T19:15:26.546043500Z",
     "start_time": "2024-09-30T19:15:18.830478900Z"
    }
   },
   "id": "3f82e60c1bc4d80",
   "execution_count": 20
  },
  {
   "cell_type": "code",
   "outputs": [],
   "source": [
    "import os\n",
    "import numpy as np\n",
    "import tensorflow as tf\n",
    "import pandas as pd\n",
    "from tensorflow.keras.preprocessing.image import load_img, img_to_array\n",
    "\n",
    "# Load the model\n",
    "model = tf.keras.models.load_model('sign_language_model_new.h5')\n",
    "\n",
    "# Define the base path to your dataset\n",
    "base_path = 'data_set_for_sign_language_detection\\A'  # Replace with your actual path\n",
    "\n",
    "# Define image size\n",
    "IMG_SIZE = (224, 224)  # Adjust based on your model's input size\n",
    "\n",
    "# Initialize lists for images and labels\n",
    "images = []\n",
    "labels = []"
   ],
   "metadata": {
    "collapsed": false,
    "ExecuteTime": {
     "end_time": "2024-09-30T19:34:25.988334500Z",
     "start_time": "2024-09-30T19:34:25.033906200Z"
    }
   },
   "id": "a0a64d7ad11d822e",
   "execution_count": 23
  },
  {
   "cell_type": "code",
   "outputs": [
    {
     "ename": "ValueError",
     "evalue": "need at least one array to concatenate",
     "output_type": "error",
     "traceback": [
      "\u001B[1;31m---------------------------------------------------------------------------\u001B[0m",
      "\u001B[1;31mValueError\u001B[0m                                Traceback (most recent call last)",
      "\u001B[1;32m~\\AppData\\Local\\Temp\\ipykernel_3260\\1027328724.py\u001B[0m in \u001B[0;36m<module>\u001B[1;34m\u001B[0m\n\u001B[0;32m     20\u001B[0m \u001B[1;33m\u001B[0m\u001B[0m\n\u001B[0;32m     21\u001B[0m \u001B[1;31m# Convert lists to arrays\u001B[0m\u001B[1;33m\u001B[0m\u001B[1;33m\u001B[0m\u001B[0m\n\u001B[1;32m---> 22\u001B[1;33m \u001B[0mimages\u001B[0m \u001B[1;33m=\u001B[0m \u001B[0mnp\u001B[0m\u001B[1;33m.\u001B[0m\u001B[0mvstack\u001B[0m\u001B[1;33m(\u001B[0m\u001B[0mimages\u001B[0m\u001B[1;33m)\u001B[0m  \u001B[1;31m# Stack images into a single NumPy array\u001B[0m\u001B[1;33m\u001B[0m\u001B[1;33m\u001B[0m\u001B[0m\n\u001B[0m",
      "\u001B[1;32m~\\anaconda3\\lib\\site-packages\\numpy\\core\\shape_base.py\u001B[0m in \u001B[0;36mvstack\u001B[1;34m(tup, dtype, casting)\u001B[0m\n\u001B[0;32m    287\u001B[0m     \u001B[1;32mif\u001B[0m \u001B[1;32mnot\u001B[0m \u001B[0misinstance\u001B[0m\u001B[1;33m(\u001B[0m\u001B[0marrs\u001B[0m\u001B[1;33m,\u001B[0m \u001B[0mlist\u001B[0m\u001B[1;33m)\u001B[0m\u001B[1;33m:\u001B[0m\u001B[1;33m\u001B[0m\u001B[1;33m\u001B[0m\u001B[0m\n\u001B[0;32m    288\u001B[0m         \u001B[0marrs\u001B[0m \u001B[1;33m=\u001B[0m \u001B[1;33m[\u001B[0m\u001B[0marrs\u001B[0m\u001B[1;33m]\u001B[0m\u001B[1;33m\u001B[0m\u001B[1;33m\u001B[0m\u001B[0m\n\u001B[1;32m--> 289\u001B[1;33m     \u001B[1;32mreturn\u001B[0m \u001B[0m_nx\u001B[0m\u001B[1;33m.\u001B[0m\u001B[0mconcatenate\u001B[0m\u001B[1;33m(\u001B[0m\u001B[0marrs\u001B[0m\u001B[1;33m,\u001B[0m \u001B[1;36m0\u001B[0m\u001B[1;33m,\u001B[0m \u001B[0mdtype\u001B[0m\u001B[1;33m=\u001B[0m\u001B[0mdtype\u001B[0m\u001B[1;33m,\u001B[0m \u001B[0mcasting\u001B[0m\u001B[1;33m=\u001B[0m\u001B[0mcasting\u001B[0m\u001B[1;33m)\u001B[0m\u001B[1;33m\u001B[0m\u001B[1;33m\u001B[0m\u001B[0m\n\u001B[0m\u001B[0;32m    290\u001B[0m \u001B[1;33m\u001B[0m\u001B[0m\n\u001B[0;32m    291\u001B[0m \u001B[1;33m\u001B[0m\u001B[0m\n",
      "\u001B[1;31mValueError\u001B[0m: need at least one array to concatenate"
     ]
    }
   ],
   "source": [
    "# Traverse the directory structure, assuming mini-folder names represent classes\n",
    "for subfolder in os.listdir(base_path):\n",
    "    subfolder_path = os.path.join(base_path, subfolder)\n",
    "    if os.path.isdir(subfolder_path):\n",
    "        for mini_folder in os.listdir(subfolder_path):\n",
    "            mini_folder_path = os.path.join(subfolder_path, mini_folder)\n",
    "            if os.path.isdir(mini_folder_path):\n",
    "                for image_file in os.listdir(mini_folder_path):\n",
    "                    if image_file.endswith('.png'):  # Modify this if you have other image formats\n",
    "                        image_path = os.path.join(mini_folder_path, image_file)\n",
    "                        # Load and preprocess the image\n",
    "                        img = load_img(image_path, target_size=IMG_SIZE)\n",
    "                        img_array = img_to_array(img)\n",
    "                        img_array = np.expand_dims(img_array, axis=0)  # Add batch dimension\n",
    "                        img_array /= 255.0  # Rescale to [0, 1]\n",
    "\n",
    "                        # Append image and its label (mini_folder is the class label)\n",
    "                        images.append(img_array)\n",
    "                        labels.append(mini_folder)  # Use mini-folder as the label\n",
    "\n",
    "# Convert lists to arrays\n",
    "images = np.vstack(images)  # Stack images into a single NumPy array"
   ],
   "metadata": {
    "collapsed": false,
    "ExecuteTime": {
     "end_time": "2024-09-30T19:34:56.654741400Z",
     "start_time": "2024-09-30T19:34:49.791372400Z"
    }
   },
   "id": "9eb7d44d4a4b9909",
   "execution_count": 25
  },
  {
   "cell_type": "code",
   "outputs": [],
   "source": [
    "# Map the class labels (mini-folder names) to numerical values\n",
    "unique_labels = sorted(set(labels))  # Get unique class labels\n",
    "label_to_index = {label: idx for idx, label in enumerate(unique_labels)}  # Create mapping\n",
    "true_labels = [label_to_index[label] for label in labels]  # Convert true labels to numeric"
   ],
   "metadata": {
    "collapsed": false
   },
   "id": "9bc2fd0d1b22ca6d"
  },
  {
   "cell_type": "code",
   "outputs": [
    {
     "name": "stdout",
     "output_type": "stream",
     "text": [
      "8/8 [==============================] - 2s 261ms/step\n",
      "Predictions saved to 'predictions.csv'\n"
     ]
    }
   ],
   "source": [
    "import os\n",
    "import numpy as np\n",
    "import tensorflow as tf\n",
    "import pandas as pd\n",
    "from tensorflow.keras.preprocessing.image import load_img, img_to_array\n",
    "\n",
    "# Load the model\n",
    "model = tf.keras.models.load_model('sign_language_model_new.h5')\n",
    "\n",
    "# Define the base path to your dataset\n",
    "base_path = 'data_set_for_sign_language_detection'  # Replace with your actual path\n",
    "\n",
    "# Define image size\n",
    "IMG_SIZE = (224, 224)  # Adjust based on your model's input size\n",
    "\n",
    "# Initialize lists for images and labels\n",
    "images = []\n",
    "labels = []\n",
    "\n",
    "# Dictionary to keep track of the number of images loaded per class\n",
    "image_count_per_class = {}\n",
    "\n",
    "# Traverse the directory structure, assuming mini-folder names represent classes\n",
    "for subfolder in os.listdir(base_path):\n",
    "    subfolder_path = os.path.join(base_path, subfolder)\n",
    "    if os.path.isdir(subfolder_path):\n",
    "        for mini_folder in os.listdir(subfolder_path):\n",
    "            mini_folder_path = os.path.join(subfolder_path, mini_folder)\n",
    "            if os.path.isdir(mini_folder_path):\n",
    "                # Initialize count for this class if not already initialized\n",
    "                if mini_folder not in image_count_per_class:\n",
    "                    image_count_per_class[mini_folder] = 0\n",
    "                \n",
    "                for image_file in os.listdir(mini_folder_path):\n",
    "                    if image_file.endswith('.png'):  # Modify this if you have other image formats\n",
    "                        # Stop if 10 images have already been loaded for this class\n",
    "                        if image_count_per_class[mini_folder] >= 10:\n",
    "                            break\n",
    "                        \n",
    "                        image_path = os.path.join(mini_folder_path, image_file)\n",
    "                        \n",
    "                        # Load and preprocess the image\n",
    "                        img = load_img(image_path, target_size=IMG_SIZE)\n",
    "                        img_array = img_to_array(img)\n",
    "                        img_array = np.expand_dims(img_array, axis=0)  # Add batch dimension\n",
    "                        img_array /= 255.0  # Rescale to [0, 1]\n",
    "\n",
    "                        # Append image and its label (mini_folder is the class label)\n",
    "                        images.append(img_array)\n",
    "                        labels.append(mini_folder)  # Use mini-folder as the label\n",
    "\n",
    "                        # Increment the count for this class\n",
    "                        image_count_per_class[mini_folder] += 1\n",
    "\n",
    "# Convert lists to arrays\n",
    "images = np.vstack(images)  # Stack images into a single NumPy array\n",
    "\n",
    "# Map the class labels (mini-folder names) to numerical values\n",
    "unique_labels = sorted(set(labels))  # Get unique class labels\n",
    "label_to_index = {label: idx for idx, label in enumerate(unique_labels)}  # Create mapping\n",
    "true_labels = [label_to_index[label] for label in labels]  # Convert true labels to numeric\n",
    "\n",
    "# Predict using the model\n",
    "predictions = model.predict(images)\n",
    "predicted_labels = np.argmax(predictions, axis=1)\n",
    "\n",
    "# Create a DataFrame with the true and predicted labels\n",
    "df = pd.DataFrame({\n",
    "    'True_Label': true_labels,\n",
    "    'Predicted_Label': predicted_labels\n",
    "})\n",
    "\n",
    "# Save the DataFrame as a CSV file to import into Power BI\n",
    "df.to_csv('predictions.csv', index=False)\n",
    "\n",
    "print(\"Predictions saved to 'predictions.csv'\")\n"
   ],
   "metadata": {
    "collapsed": false,
    "ExecuteTime": {
     "end_time": "2024-09-30T19:35:21.732319500Z",
     "start_time": "2024-09-30T19:35:16.144028400Z"
    }
   },
   "id": "af3812a75f8327a3",
   "execution_count": 26
  },
  {
   "cell_type": "code",
   "outputs": [
    {
     "name": "stdout",
     "output_type": "stream",
     "text": [
      "Accuracy: 99.166666667%\n"
     ]
    }
   ],
   "source": [
    "# Calculate accuracy\n",
    "accuracy = accuracy_score(true_labels, predicted_labels)\n",
    "\n",
    "# Print accuracy\n",
    "print(f\"Accuracy: {accuracy * 100:.9f}%\")"
   ],
   "metadata": {
    "collapsed": false,
    "ExecuteTime": {
     "end_time": "2024-09-30T20:31:10.120297800Z",
     "start_time": "2024-09-30T20:31:10.036686200Z"
    }
   },
   "id": "2e78937ec9ec5039",
   "execution_count": 28
  },
  {
   "cell_type": "code",
   "outputs": [
    {
     "name": "stdout",
     "output_type": "stream",
     "text": [
      "8/8 [==============================] - 2s 264ms/step\n",
      "Predictions saved to 'predictions.csv'\n"
     ]
    }
   ],
   "source": [
    "\n",
    "\n",
    "# Define image size\n",
    "IMG_SIZE = (224, 224)  # Adjust based on your model's input size\n",
    "\n",
    "# Initialize lists for images and labels\n",
    "images = []\n",
    "labels = []\n",
    "\n",
    "# Dictionary to keep track of the number of images loaded per class\n",
    "image_count_per_class = {}\n",
    "\n",
    "# Traverse the directory structure, assuming mini-folder names represent classes\n",
    "for subfolder in os.listdir(base_path):\n",
    "    subfolder_path = os.path.join(base_path, subfolder)\n",
    "    if os.path.isdir(subfolder_path):\n",
    "        for mini_folder in os.listdir(subfolder_path):\n",
    "            mini_folder_path = os.path.join(subfolder_path, mini_folder)\n",
    "            if os.path.isdir(mini_folder_path):\n",
    "                # Initialize count for this class if not already initialized\n",
    "                if mini_folder not in image_count_per_class:\n",
    "                    image_count_per_class[mini_folder] = 0\n",
    "                \n",
    "                for image_file in os.listdir(mini_folder_path):\n",
    "                    if image_file.endswith('.png'):  # Modify this if you have other image formats\n",
    "                        # Stop if 10 images have already been loaded for this class\n",
    "                        if image_count_per_class[mini_folder] >= 10:\n",
    "                            break\n",
    "                        \n",
    "                        image_path = os.path.join(mini_folder_path, image_file)\n",
    "                        \n",
    "                        # Load and preprocess the image\n",
    "                        img = load_img(image_path, target_size=IMG_SIZE)\n",
    "                        img_array = img_to_array(img)\n",
    "                        img_array = np.expand_dims(img_array, axis=0)  # Add batch dimension\n",
    "                        img_array /= 255.0  # Rescale to [0, 1]\n",
    "\n",
    "                        # Append image and its label (mini_folder is the class label)\n",
    "                        images.append(img_array)\n",
    "                        labels.append(mini_folder)  # Use mini-folder as the label\n",
    "\n",
    "                        # Increment the count for this class\n",
    "                        image_count_per_class[mini_folder] += 1\n",
    "\n",
    "# Convert lists to arrays\n",
    "images = np.vstack(images)  # Stack images into a single NumPy array\n",
    "\n",
    "# Map the class labels (mini-folder names) to numerical values\n",
    "unique_labels = sorted(set(labels))  # Get unique class labels\n",
    "label_to_index = {label: idx for idx, label in enumerate(unique_labels)}  # Create mapping\n",
    "index_to_label = {idx: label for label, idx in label_to_index.items()}  # Reverse mapping from index to label\n",
    "\n",
    "true_labels = [label_to_index[label] for label in labels]  # Convert true labels to numeric\n",
    "\n",
    "# Predict using the model\n",
    "predictions = model.predict(images)\n",
    "predicted_labels = np.argmax(predictions, axis=1)\n",
    "\n",
    "# Convert predicted numeric labels back to class labels (letters)\n",
    "predicted_class_labels = [index_to_label[pred] for pred in predicted_labels]  # Convert predicted labels to letter classes\n",
    "true_class_labels = [index_to_label[true] for true in true_labels]  # Convert true labels to letter classes\n",
    "\n",
    "# Create a DataFrame with the true and predicted labels as letter classes\n",
    "df = pd.DataFrame({\n",
    "    'True_Label': true_class_labels,\n",
    "    'Predicted_Label': predicted_class_labels\n",
    "})\n",
    "\n",
    "# Save the DataFrame as a CSV file to import into Power BI\n",
    "df.to_csv('predictions_class.csv', index=False)\n",
    "\n",
    "print(\"Predictions saved to 'predictions.csv'\")\n"
   ],
   "metadata": {
    "collapsed": false,
    "ExecuteTime": {
     "end_time": "2024-09-30T21:12:06.147348200Z",
     "start_time": "2024-09-30T21:12:01.234949400Z"
    }
   },
   "id": "47be23131ab1d13a",
   "execution_count": 30
  },
  {
   "cell_type": "code",
   "outputs": [],
   "source": [],
   "metadata": {
    "collapsed": false
   },
   "id": "1fcdd81d72b74ab4"
  }
 ],
 "metadata": {
  "kernelspec": {
   "display_name": "Python 3",
   "language": "python",
   "name": "python3"
  },
  "language_info": {
   "codemirror_mode": {
    "name": "ipython",
    "version": 2
   },
   "file_extension": ".py",
   "mimetype": "text/x-python",
   "name": "python",
   "nbconvert_exporter": "python",
   "pygments_lexer": "ipython2",
   "version": "2.7.6"
  }
 },
 "nbformat": 4,
 "nbformat_minor": 5
}
